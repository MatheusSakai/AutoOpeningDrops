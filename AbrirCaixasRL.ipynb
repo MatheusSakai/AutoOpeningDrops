{
 "cells": [
  {
   "cell_type": "code",
   "execution_count": 5,
   "id": "0e7c56c1",
   "metadata": {},
   "outputs": [
    {
     "data": {
      "text/plain": [
       "Point(x=85, y=597)"
      ]
     },
     "execution_count": 5,
     "metadata": {},
     "output_type": "execute_result"
    }
   ],
   "source": [
    "import time\n",
    "import pyautogui as pg\n",
    "# Posicao do \"abrir caixa\"\n",
    "time.sleep(4)\n",
    "pg.position()"
   ]
  },
  {
   "cell_type": "code",
   "execution_count": 6,
   "id": "70623c7a",
   "metadata": {},
   "outputs": [
    {
     "data": {
      "text/plain": [
       "Point(x=698, y=704)"
      ]
     },
     "execution_count": 6,
     "metadata": {},
     "output_type": "execute_result"
    }
   ],
   "source": [
    "import time\n",
    "import pyautogui as pg\n",
    "# Posicao do \"ok\"\n",
    "time.sleep(4)\n",
    "pg.position()"
   ]
  },
  {
   "cell_type": "code",
   "execution_count": 11,
   "id": "3c5b3a25",
   "metadata": {},
   "outputs": [],
   "source": [
    "# Importanto\n",
    "import pyautogui as pg\n",
    "import time\n",
    "\n",
    "# Alerta de início do código\n",
    "pg.alert('Com o jogo aberto, selecione a caixa que deseja abrir')\n",
    "pg.alert('Código vai iniciar, NÃO mova o mouse e NÃO use o teclado até aparecer a mensagem de fim')\n",
    "\n",
    "# Pausa o código a cada linha que lê\n",
    "pg.PAUSE = 1\n",
    "\n",
    "# Imagem para serem localizadas\n",
    "img_rl = pg.locateCenterOnScreen('RL.png')\n",
    "\n",
    "# Abre o jogo (o jogo precisa estar aparecendo na barra de tarefas)\n",
    "try:\n",
    "    pg.click(img_rl.x, img_rl.y)\n",
    "\n",
    "    # Numero de caixas que deseja abrir\n",
    "    c = 1\n",
    "\n",
    "    for i in range(c):\n",
    "        # Clica pra abrir\n",
    "        pg.click(85, 597)\n",
    "\n",
    "        # Confirma\n",
    "        pg.press('left')\n",
    "        pg.press('enter')\n",
    "\n",
    "        # Tempo para a caixa abrir antes da próxima etapa \n",
    "        time.sleep(7)\n",
    "\n",
    "        # Clica em ok\n",
    "        pg.click(698, 704)\n",
    "\n",
    "    # Alerta do fim do código\n",
    "    pg.alert('Fim do código, pode mover o mouse e usar o teclado, clique em \"OK\" para fechar esta janela')\n",
    "    \n",
    "    \n",
    "except:\n",
    "    pg.alert('Não foi possível encontrar a imagem do rocket league na barra de tarefas')"
   ]
  },
  {
   "cell_type": "code",
   "execution_count": null,
   "id": "44d217e9",
   "metadata": {},
   "outputs": [],
   "source": []
  }
 ],
 "metadata": {
  "kernelspec": {
   "display_name": "Python 3 (ipykernel)",
   "language": "python",
   "name": "python3"
  },
  "language_info": {
   "codemirror_mode": {
    "name": "ipython",
    "version": 3
   },
   "file_extension": ".py",
   "mimetype": "text/x-python",
   "name": "python",
   "nbconvert_exporter": "python",
   "pygments_lexer": "ipython3",
   "version": "3.9.12"
  }
 },
 "nbformat": 4,
 "nbformat_minor": 5
}
